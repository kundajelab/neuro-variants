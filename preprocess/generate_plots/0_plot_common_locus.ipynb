{
 "cells": [
  {
   "cell_type": "code",
   "execution_count": 1,
   "metadata": {},
   "outputs": [],
   "source": [
    "## Code at /users/soumyak/miniconda3/envs/chrombpnet/lib/python3.8/site-packages/pygenometracks/tracks"
   ]
  },
  {
   "cell_type": "markdown",
   "metadata": {},
   "source": [
    "## RASGEF1C Locus"
   ]
  },
  {
   "cell_type": "code",
   "execution_count": 23,
   "metadata": {},
   "outputs": [
    {
     "name": "stdout",
     "output_type": "stream",
     "text": [
      "INFO:pygenometracks.tracksClass:initialize 1. [genes]\n",
      "100%|████████████████████████████████████████████| 4/4 [00:00<00:00, 389.86it/s]\n",
      "INFO:pygenometracks.tracksClass:initialize 2. [spacer]\n",
      "INFO:pygenometracks.tracksClass:initialize 3. [gwas variants]\n",
      "INFO:pygenometracks.tracksClass:initialize 4. [spacer]\n",
      "INFO:pygenometracks.tracksClass:initialize 5. [pip variants]\n",
      "INFO:pygenometracks.tracksClass:initialize 6. [spacer]\n",
      "INFO:pygenometracks.tracksClass:initialize 7. [Excitatory Neurons bigwig]\n",
      "INFO:pygenometracks.tracksClass:initialize 8. [custom spacer]\n",
      "INFO:pygenometracks.tracksClass:initialize 9. [Inhibitory Neurons bigwig]\n",
      "INFO:pygenometracks.tracksClass:initialize 10. [custom spacer]\n",
      "INFO:pygenometracks.tracksClass:initialize 11. [Microglia bigwig]\n",
      "INFO:pygenometracks.tracksClass:initialize 12. [x-axis]\n",
      "INFO:pygenometracks.tracksClass:time initializing track(s):\n",
      "INFO:pygenometracks.tracksClass:2.5804736614227295\n",
      "DEBUG:pygenometracks.tracksClass:Figure size in cm is 40 x 15.372340425531915. Dpi is set to 300\n",
      "\n",
      "INFO:pygenometracks.tracksClass:plotting 1. [genes]\n",
      "DEBUG:pygenometracks.tracks.GenomeTrack:ylim 5.68,-0.08\n",
      "DEBUG:pygenometracks.tracks.GenomeTrack:ylim (5.68, -0.08)\n",
      "INFO:pygenometracks.tracksClass:plotting 2. [spacer]\n",
      "INFO:pygenometracks.tracksClass:plotting 3. [gwas variants]\n",
      "Plotting GWAS variants...\n",
      "here\n",
      "INFO:pygenometracks.tracksClass:plotting 4. [spacer]\n",
      "INFO:pygenometracks.tracksClass:plotting 5. [pip variants]\n",
      "Plotting PIP variants...\n",
      "INFO:pygenometracks.tracksClass:plotting 6. [spacer]\n",
      "INFO:pygenometracks.tracksClass:plotting 7. [Excitatory Neurons bigwig]\n",
      "INFO:pygenometracks.tracksClass:plotting 8. [custom spacer]\n",
      "INFO:pygenometracks.tracksClass:plotting 9. [Inhibitory Neurons bigwig]\n",
      "INFO:pygenometracks.tracksClass:plotting 10. [custom spacer]\n",
      "INFO:pygenometracks.tracksClass:plotting 11. [Microglia bigwig]\n",
      "INFO:pygenometracks.tracksClass:plotting 12. [x-axis]\n"
     ]
    }
   ],
   "source": [
    "! pyGenomeTracks --tracks neuro.common_variants_tracks.ini --region chr5:180151150-180251150 --dpi 300 -o /oak/stanford/groups/akundaje/projects/neuro-variants/plots/loci/common/neuro.common_loci.RASGEF1C.pdf"
   ]
  },
  {
   "cell_type": "code",
   "execution_count": null,
   "metadata": {},
   "outputs": [],
   "source": []
  },
  {
   "cell_type": "code",
   "execution_count": null,
   "metadata": {},
   "outputs": [],
   "source": []
  },
  {
   "cell_type": "code",
   "execution_count": null,
   "metadata": {},
   "outputs": [],
   "source": []
  }
 ],
 "metadata": {
  "kernelspec": {
   "display_name": "chrombpnet",
   "language": "python",
   "name": "python3"
  },
  "language_info": {
   "codemirror_mode": {
    "name": "ipython",
    "version": 3
   },
   "file_extension": ".py",
   "mimetype": "text/x-python",
   "name": "python",
   "nbconvert_exporter": "python",
   "pygments_lexer": "ipython3",
   "version": "3.8.16"
  }
 },
 "nbformat": 4,
 "nbformat_minor": 2
}
