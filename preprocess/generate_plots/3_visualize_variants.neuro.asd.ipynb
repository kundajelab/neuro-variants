{
 "cells": [
  {
   "cell_type": "markdown",
   "id": "86a2e50a-54b7-4a54-bfcd-3529ce1c7c9a",
   "metadata": {},
   "source": [
    "## Imports"
   ]
  },
  {
   "cell_type": "code",
   "execution_count": 1,
   "id": "eb81cfb1-3f8d-406b-a45e-f90ea66e43d4",
   "metadata": {
    "tags": []
   },
   "outputs": [],
   "source": [
    "import pandas as pd\n",
    "import numpy as np\n",
    "import os\n",
    "import h5py\n",
    "import deepdish as dd\n",
    "\n",
    "from matplotlib import pyplot as plt\n",
    "from matplotlib.pyplot import figure\n",
    "import seaborn as sns\n",
    "import logomaker\n",
    "\n",
    "pd.options.display.max_columns = 100\n",
    "pd.options.display.max_rows = 100"
   ]
  },
  {
   "cell_type": "code",
   "execution_count": 2,
   "id": "8447e37d-bb29-4e83-9b42-0603867d61e7",
   "metadata": {
    "tags": []
   },
   "outputs": [],
   "source": [
    "variant_table_dir = '/oak/stanford/groups/akundaje/projects/neuro-variants/variant_tables/asd/K562_bias'\n",
    "variant_shap_dir = '/oak/stanford/groups/akundaje/projects/neuro-variants/variant_shap/asd/K562_bias'\n",
    "variant_plot_dir = '/oak/stanford/groups/akundaje/projects/neuro-variants/variant_plots/asd/K562_bias'\n",
    "variant_list_dir = '/oak/stanford/groups/akundaje/projects/neuro-variants/variant_lists'\n",
    "\n",
    "shap_inputs_file = variant_list_dir + '/neuro.asd.variants.shap.tsv'"
   ]
  },
  {
   "cell_type": "code",
   "execution_count": 3,
   "id": "af2c32f5-2aaa-4944-800f-4c043683a976",
   "metadata": {
    "tags": []
   },
   "outputs": [
    {
     "name": "stdout",
     "output_type": "stream",
     "text": [
      "19\n",
      "\n",
      "['corces_2020.Cluster1', 'corces_2020.Cluster11', 'corces_2020.Cluster13', 'corces_2020.Cluster19', 'corces_2020.Cluster24', 'corces_2020.Cluster8', 'domcke_2020.fetal_brain.Astrocytes', 'domcke_2020.fetal_brain.Excitatory_neurons', 'domcke_2020.fetal_brain.Inhibitory_neurons', 'domcke_2020.fetal_heart.Cardiomyocytes', 'domcke_2020.fetal_heart.Endocardial_cells', 'domcke_2020.fetal_heart.Myeloid_cells', 'domcke_2020.fetal_heart.Smooth_muscle_cells', 'domcke_2020.fetal_heart.Stromal_cells', 'domcke_2020.fetal_heart.Vascular_endothelial_cells', 'trevino_2021.c10', 'trevino_2021.c11', 'trevino_2021.c15', 'trevino_2021.c19']\n",
      "\n"
     ]
    }
   ],
   "source": [
    "clusters = sorted([i for i in os.listdir(variant_shap_dir + '/corces_2020') + os.listdir(variant_shap_dir + '/trevino_2021') + os.listdir(variant_shap_dir + '/domcke_2020')])\n",
    "folds = ['fold_' + str(i) for i in range(5)]\n",
    "\n",
    "print(len(clusters))\n",
    "print()\n",
    "\n",
    "print([i for i in clusters])\n",
    "print()"
   ]
  },
  {
   "cell_type": "code",
   "execution_count": 4,
   "id": "44e6b1ed-66a0-4b4c-a026-04c849806032",
   "metadata": {},
   "outputs": [
    {
     "data": {
      "text/html": [
       "<div>\n",
       "<style scoped>\n",
       "    .dataframe tbody tr th:only-of-type {\n",
       "        vertical-align: middle;\n",
       "    }\n",
       "\n",
       "    .dataframe tbody tr th {\n",
       "        vertical-align: top;\n",
       "    }\n",
       "\n",
       "    .dataframe thead th {\n",
       "        text-align: right;\n",
       "    }\n",
       "</style>\n",
       "<table border=\"1\" class=\"dataframe\">\n",
       "  <thead>\n",
       "    <tr style=\"text-align: right;\">\n",
       "      <th></th>\n",
       "      <th>chr_hg38</th>\n",
       "      <th>pos_hg38</th>\n",
       "      <th>ref_allele</th>\n",
       "      <th>alt_allele</th>\n",
       "      <th>variant_id</th>\n",
       "    </tr>\n",
       "  </thead>\n",
       "  <tbody>\n",
       "    <tr>\n",
       "      <th>0</th>\n",
       "      <td>chr7</td>\n",
       "      <td>148230432</td>\n",
       "      <td>G</td>\n",
       "      <td>T</td>\n",
       "      <td>chr7:148230432:G:T</td>\n",
       "    </tr>\n",
       "    <tr>\n",
       "      <th>1</th>\n",
       "      <td>chr14</td>\n",
       "      <td>27886425</td>\n",
       "      <td>C</td>\n",
       "      <td>T</td>\n",
       "      <td>chr14:27886425:C:T</td>\n",
       "    </tr>\n",
       "  </tbody>\n",
       "</table>\n",
       "</div>"
      ],
      "text/plain": [
       "  chr_hg38   pos_hg38 ref_allele alt_allele          variant_id\n",
       "0     chr7  148230432          G          T  chr7:148230432:G:T\n",
       "1    chr14   27886425          C          T  chr14:27886425:C:T"
      ]
     },
     "execution_count": 4,
     "metadata": {},
     "output_type": "execute_result"
    }
   ],
   "source": [
    "shap_inputs = pd.read_table(shap_inputs_file, names=['chr_hg38', 'pos_hg38', 'ref_allele', 'alt_allele', 'variant_id'])\n",
    "\n",
    "shap_inputs"
   ]
  },
  {
   "cell_type": "code",
   "execution_count": 5,
   "id": "6e5362ef-5c05-4287-b973-4afc2fc527f4",
   "metadata": {
    "tags": []
   },
   "outputs": [],
   "source": [
    "def softmax(x, temp=1):\n",
    "    norm_x = x - np.mean(x, axis=1, keepdims=True)\n",
    "    return np.exp(temp*norm_x)/np.sum(np.exp(temp*norm_x), axis=1, keepdims=True)"
   ]
  },
  {
   "cell_type": "code",
   "execution_count": 6,
   "id": "0f358bd5-b5db-4ec3-8f87-8ad4a0a54831",
   "metadata": {
    "tags": []
   },
   "outputs": [
    {
     "name": "stdout",
     "output_type": "stream",
     "text": [
      "corces_2020\n",
      "corces_2020.Cluster1\n",
      "corces_2020.Cluster11\n",
      "corces_2020.Cluster13\n",
      "corces_2020.Cluster19\n",
      "corces_2020.Cluster24\n",
      "corces_2020.Cluster8\n",
      "trevino_2021\n",
      "trevino_2021.c10\n",
      "trevino_2021.c11\n",
      "trevino_2021.c15\n",
      "trevino_2021.c19\n",
      "domcke_2020\n",
      "domcke_2020.fetal_brain.Astrocytes\n",
      "domcke_2020.fetal_brain.Excitatory_neurons\n",
      "domcke_2020.fetal_brain.Inhibitory_neurons\n",
      "domcke_2020.fetal_heart.Cardiomyocytes\n",
      "domcke_2020.fetal_heart.Endocardial_cells\n",
      "domcke_2020.fetal_heart.Myeloid_cells\n",
      "domcke_2020.fetal_heart.Smooth_muscle_cells\n",
      "domcke_2020.fetal_heart.Stromal_cells\n",
      "domcke_2020.fetal_heart.Vascular_endothelial_cells\n"
     ]
    }
   ],
   "source": [
    "allele1_preds = {}\n",
    "allele2_preds = {}\n",
    "\n",
    "for dataset in ['corces_2020', 'trevino_2021', 'domcke_2020']:\n",
    "    print(dataset)\n",
    "\n",
    "    for cluster in [i for i in clusters if i.startswith(dataset)]:\n",
    "        print(cluster)\n",
    "        allele1_pred_counts = {}\n",
    "        allele2_pred_counts = {}\n",
    "\n",
    "        allele1_pred_profile = {}\n",
    "        allele2_pred_profile = {}\n",
    "        \n",
    "        allele1_preds[cluster] = {}\n",
    "        allele2_preds[cluster] = {}\n",
    "\n",
    "        for fold in folds:\n",
    "            infile = h5py.File(variant_shap_dir + '/' + dataset + '/' + cluster + '/' + str(fold) + '/' + cluster + '.' + str(fold) + '.asd.shap.variant_predictions.h5')\n",
    "            \n",
    "            allele1_pred_counts[fold] = np.array(infile['observed']['allele1_pred_counts'])\n",
    "            allele2_pred_counts[fold] = np.array(infile['observed']['allele2_pred_counts'])\n",
    "            \n",
    "            allele1_pred_profile[fold] = np.array(infile['observed']['allele1_pred_profiles'])\n",
    "            allele2_pred_profile[fold] = np.array(infile['observed']['allele2_pred_profiles'])\n",
    "            \n",
    "            allele1_preds[cluster][fold] = allele1_pred_counts[fold] * softmax(allele1_pred_profile[fold])\n",
    "            allele2_preds[cluster][fold] = allele2_pred_counts[fold] * softmax(allele2_pred_profile[fold])\n",
    "            \n",
    "        allele1_pred_counts['mean'] = np.mean(np.array([allele1_pred_counts[fold] for fold in folds]), axis=0)\n",
    "        allele2_pred_counts['mean'] = np.mean(np.array([allele2_pred_counts[fold] for fold in folds]), axis=0)\n",
    "        \n",
    "        allele1_pred_profile['mean'] = np.mean(np.array([allele1_pred_profile[fold] for fold in folds]), axis=0)\n",
    "        allele2_pred_profile['mean'] = np.mean(np.array([allele2_pred_profile[fold] for fold in folds]), axis=0)\n",
    "        \n",
    "        allele1_preds[cluster]['mean'] = np.mean(np.array([allele1_preds[cluster][fold] for fold in folds]), axis=0)\n",
    "        allele2_preds[cluster]['mean'] = np.mean(np.array([allele2_preds[cluster][fold] for fold in folds]), axis=0)"
   ]
  },
  {
   "cell_type": "code",
   "execution_count": 7,
   "id": "db5470af-931d-439c-954c-0ff147d483db",
   "metadata": {
    "tags": []
   },
   "outputs": [],
   "source": [
    "allele1_shap = {'counts': {}, 'profile': {}}\n",
    "allele2_shap = {'counts': {}, 'profile': {}}"
   ]
  },
  {
   "cell_type": "code",
   "execution_count": 8,
   "id": "a23901cf-2357-4818-a8b2-7c0c7a05046a",
   "metadata": {
    "tags": []
   },
   "outputs": [
    {
     "name": "stdout",
     "output_type": "stream",
     "text": [
      "corces_2020.Cluster1\n",
      "corces_2020.Cluster11\n",
      "corces_2020.Cluster13\n",
      "corces_2020.Cluster19\n",
      "corces_2020.Cluster24\n",
      "corces_2020.Cluster8\n",
      "trevino_2021.c10\n",
      "trevino_2021.c11\n",
      "trevino_2021.c15\n",
      "trevino_2021.c19\n",
      "domcke_2020.fetal_brain.Astrocytes\n",
      "domcke_2020.fetal_brain.Excitatory_neurons\n",
      "domcke_2020.fetal_brain.Inhibitory_neurons\n",
      "domcke_2020.fetal_heart.Cardiomyocytes\n",
      "domcke_2020.fetal_heart.Endocardial_cells\n",
      "domcke_2020.fetal_heart.Myeloid_cells\n",
      "domcke_2020.fetal_heart.Smooth_muscle_cells\n",
      "domcke_2020.fetal_heart.Stromal_cells\n",
      "domcke_2020.fetal_heart.Vascular_endothelial_cells\n"
     ]
    }
   ],
   "source": [
    "for dataset in ['corces_2020', 'trevino_2021', 'domcke_2020']:\n",
    "    for score_type in ['counts']: #, 'profile']:\n",
    "        for cluster in [i for i in clusters if i.startswith(dataset)]:\n",
    "            print(cluster)\n",
    "            \n",
    "            if cluster not in allele2_shap[score_type]:\n",
    "                allele1_shap[score_type][cluster] = {}\n",
    "                allele2_shap[score_type][cluster] = {}\n",
    "                \n",
    "            if len(allele2_shap[score_type][cluster]) < 5:\n",
    "                for fold in folds:\n",
    "                    # print(fold)\n",
    "                    infile = dd.io.load(variant_shap_dir + '/' + dataset + '/' + cluster + '/' + str(fold) + '/' + cluster + '.' + str(fold) + '.asd.shap.variant_shap.counts.h5')\n",
    "                    alleles = np.array(infile['alleles'])\n",
    "                    allele1_shap[score_type][cluster][fold] = np.array(infile['projected_shap']['seq'])[alleles==0]\n",
    "                    allele2_shap[score_type][cluster][fold] = np.array(infile['projected_shap']['seq'])[alleles==1]\n",
    "\n",
    "                allele1_shap[score_type][cluster]['mean'] = np.mean(np.array([allele1_shap[score_type][cluster][fold] for fold in folds]), axis=0)\n",
    "                allele2_shap[score_type][cluster]['mean'] = np.mean(np.array([allele2_shap[score_type][cluster][fold] for fold in folds]), axis=0)"
   ]
  },
  {
   "cell_type": "code",
   "execution_count": 9,
   "id": "50e9f7e6-390f-4767-9661-4bc93f92f93b",
   "metadata": {
    "tags": []
   },
   "outputs": [],
   "source": [
    "from multiprocessing import Pool\n",
    "\n",
    "def parallel_func(df, func, n_cores=40):\n",
    "    df_split = np.array_split(df, n_cores)\n",
    "    pool = Pool(n_cores)\n",
    "    df = pd.concat(pool.map(func, df_split))\n",
    "    pool.close()\n",
    "    pool.join()\n",
    "    \n",
    "    return df"
   ]
  },
  {
   "cell_type": "code",
   "execution_count": 10,
   "id": "88e9a1c8-84a7-4a2e-b3dd-ac8fd5887de7",
   "metadata": {},
   "outputs": [],
   "source": [
    "for dataset in ['corces_2020', 'trevino_2021', 'domcke_2020']:\n",
    "    for cluster in [i for i in clusters if i.startswith(dataset)]:\n",
    "        os.makedirs(variant_plot_dir + '/' + dataset + '/' + cluster, exist_ok=True)"
   ]
  },
  {
   "cell_type": "code",
   "execution_count": 11,
   "id": "50d5e6ba-0248-4e73-89fa-fbd11e31e380",
   "metadata": {
    "tags": []
   },
   "outputs": [],
   "source": [
    "def plot_variants(df, score_type='counts', fold='mean'):\n",
    "    for index,row in df.iterrows():\n",
    "        for dataset in ['corces_2020', 'trevino_2021', 'domcke_2020']:\n",
    "            for cluster in [i for i in clusters if i.startswith(dataset)]:\n",
    "                outfile = variant_plot_dir + '/' + dataset + '/' + cluster + '/' + row['variant_id'] + '.png'\n",
    "\n",
    "                if not os.path.isfile(outfile) and not pd.isna(row['variant_id']):\n",
    "\n",
    "                    flank = 150\n",
    "                    x = np.arange(-flank, flank)\n",
    "                    c = np.zeros(flank * 2)\n",
    "\n",
    "                    fig = figure(figsize=(20, 9))\n",
    "                    ax1 = fig.add_subplot(311)\n",
    "                    plt.plot(x, c, color='black')\n",
    "\n",
    "                    plt.axvline(x=0, color='black', ls='--', linewidth=1)\n",
    "                    ax1.margins(x=0, y=0.1)  # Remove padding\n",
    "                    ax1.set_xlim(-flank, flank + 1)\n",
    "                    plt.xticks([i for i in range(-flank, flank+1, 50)])\n",
    "\n",
    "                    plt.title(row['variant_id'] + ' (' + row['ref_allele'] + '/' + row['alt_allele'] + ') ' + '--- ' + cluster,\n",
    "                                fontsize=18, weight='bold')\n",
    "\n",
    "                    ylim = [np.min(np.array([np.min(allele1_shap[score_type][cluster][fold][index][:,1057-flank:1057+flank].T),\n",
    "                                                np.min(allele2_shap[score_type][cluster][fold][index][:,1057-flank:1057+flank].T)])) * 1.1,\n",
    "                            np.max(np.array([np.max(allele1_shap[score_type][cluster][fold][index][:,1057-flank:1057+flank].T),\n",
    "                                                np.max(allele2_shap[score_type][cluster][fold][index][:,1057-flank:1057+flank].T)])) * 1.1]\n",
    "                    \n",
    "                    allele1_label = 'ref allele (' + row['ref_allele'] + ')'\n",
    "                    allele2_label = 'alt allele (' + row['alt_allele'] + ')'\n",
    "\n",
    "                    ax1.tick_params(axis='x', labelsize=16)\n",
    "                    ax1.tick_params(axis='y', labelsize=16)\n",
    "\n",
    "                    plt.plot(x, allele1_preds[cluster][fold][index][500-flank:500+flank], color='royalblue', label=allele1_label) #, linewidth=1)\n",
    "                    plt.plot(x, allele2_preds[cluster][fold][index][500-flank:500+flank], color='firebrick', label=allele2_label) #, linewidth=1)\n",
    "                    plt.legend(prop={'size': 18}, loc='upper right')\n",
    "\n",
    "                    flank = 150\n",
    "\n",
    "                    ax2 = fig.add_subplot(312)\n",
    "                    logo1 = logomaker.Logo(pd.DataFrame(allele1_shap[score_type][cluster][fold][index][:,1057-flank:1057+flank].T,\n",
    "                                                        columns=['A','C','G','T']), ax=ax2)\n",
    "                    logo1.ax.set_xlim(0, (flank * 2) + 1)\n",
    "                    logo1.ax.set_ylim(ylim)\n",
    "                    ax2.axvline(x=flank, color='black', ls='--', linewidth=1)\n",
    "                    logo1.ax.set_xticks([i for i in range(0, (flank * 2) + 1, 50)])\n",
    "                    logo1.ax.set_xticklabels([str(i) for i in range(-flank, flank+1, 50)])\n",
    "\n",
    "                    plt.text(0.987, 0.90, allele1_label, \n",
    "                                verticalalignment='top', horizontalalignment='right',\n",
    "                                transform=ax2.transAxes, size=18,\n",
    "                                bbox=dict(boxstyle='square,pad=0.5', facecolor='white', edgecolor='black'))\n",
    "\n",
    "                    ax2.tick_params(axis='x', labelsize=16)\n",
    "                    ax2.tick_params(axis='y', labelsize=16)\n",
    "\n",
    "                    ax3 = fig.add_subplot(313)\n",
    "                    logo2 = logomaker.Logo(pd.DataFrame(allele2_shap[score_type][cluster][fold][index][:,1057-flank:1057+flank].T,\n",
    "                                                        columns=['A','C','G','T']), ax=ax3)\n",
    "                    logo2.ax.set_xlim(0, (flank * 2) + 1)\n",
    "                    logo2.ax.set_ylim(ylim)\n",
    "                    ax3.axvline(x=flank, color='black', ls='--', linewidth=1)\n",
    "                    logo2.ax.set_xticks([i for i in range(0, (flank * 2) + 1, 50)])\n",
    "                    logo2.ax.set_xticklabels([str(i) for i in range(-flank, flank+1, 50)])\n",
    "\n",
    "                    plt.text(0.987, 0.90, allele2_label, \n",
    "                                verticalalignment='top', horizontalalignment='right',\n",
    "                                transform=ax3.transAxes, size=18,\n",
    "                                bbox=dict(boxstyle='square,pad=0.5', facecolor='white', edgecolor='black'))\n",
    "                    \n",
    "                    ax3.tick_params(axis='x', labelsize=16)\n",
    "                    ax3.tick_params(axis='y', labelsize=16)\n",
    "\n",
    "                    plt.subplots_adjust(wspace=0.3, hspace=0.4)\n",
    "                    fig.tight_layout()\n",
    "                    plt.savefig(outfile)\n",
    "                    plt.close()\n",
    "    return df"
   ]
  },
  {
   "cell_type": "code",
   "execution_count": 12,
   "id": "c697a507-e496-4d98-91bd-31be626a877f",
   "metadata": {
    "tags": []
   },
   "outputs": [
    {
     "data": {
      "text/html": [
       "<div>\n",
       "<style scoped>\n",
       "    .dataframe tbody tr th:only-of-type {\n",
       "        vertical-align: middle;\n",
       "    }\n",
       "\n",
       "    .dataframe tbody tr th {\n",
       "        vertical-align: top;\n",
       "    }\n",
       "\n",
       "    .dataframe thead th {\n",
       "        text-align: right;\n",
       "    }\n",
       "</style>\n",
       "<table border=\"1\" class=\"dataframe\">\n",
       "  <thead>\n",
       "    <tr style=\"text-align: right;\">\n",
       "      <th></th>\n",
       "      <th>chr_hg38</th>\n",
       "      <th>pos_hg38</th>\n",
       "      <th>ref_allele</th>\n",
       "      <th>alt_allele</th>\n",
       "      <th>variant_id</th>\n",
       "    </tr>\n",
       "  </thead>\n",
       "  <tbody>\n",
       "    <tr>\n",
       "      <th>0</th>\n",
       "      <td>chr7</td>\n",
       "      <td>148230432</td>\n",
       "      <td>G</td>\n",
       "      <td>T</td>\n",
       "      <td>chr7:148230432:G:T</td>\n",
       "    </tr>\n",
       "    <tr>\n",
       "      <th>1</th>\n",
       "      <td>chr14</td>\n",
       "      <td>27886425</td>\n",
       "      <td>C</td>\n",
       "      <td>T</td>\n",
       "      <td>chr14:27886425:C:T</td>\n",
       "    </tr>\n",
       "  </tbody>\n",
       "</table>\n",
       "</div>"
      ],
      "text/plain": [
       "  chr_hg38   pos_hg38 ref_allele alt_allele          variant_id\n",
       "0     chr7  148230432          G          T  chr7:148230432:G:T\n",
       "1    chr14   27886425          C          T  chr14:27886425:C:T"
      ]
     },
     "execution_count": 12,
     "metadata": {},
     "output_type": "execute_result"
    }
   ],
   "source": [
    "parallel_func(shap_inputs, plot_variants)"
   ]
  },
  {
   "cell_type": "code",
   "execution_count": null,
   "id": "a854c432-f362-45cd-8258-5a3766b67e85",
   "metadata": {},
   "outputs": [],
   "source": []
  },
  {
   "cell_type": "code",
   "execution_count": null,
   "id": "7de97afe-195c-457f-9cce-c99b5c02f648",
   "metadata": {},
   "outputs": [],
   "source": []
  },
  {
   "cell_type": "code",
   "execution_count": null,
   "id": "67fb8886-9853-48ca-abd6-f423e4cc3864",
   "metadata": {},
   "outputs": [],
   "source": []
  }
 ],
 "metadata": {
  "kernelspec": {
   "display_name": "chrombpnet",
   "language": "python",
   "name": "python3"
  },
  "language_info": {
   "codemirror_mode": {
    "name": "ipython",
    "version": 3
   },
   "file_extension": ".py",
   "mimetype": "text/x-python",
   "name": "python",
   "nbconvert_exporter": "python",
   "pygments_lexer": "ipython3",
   "version": "3.8.16"
  }
 },
 "nbformat": 4,
 "nbformat_minor": 5
}
