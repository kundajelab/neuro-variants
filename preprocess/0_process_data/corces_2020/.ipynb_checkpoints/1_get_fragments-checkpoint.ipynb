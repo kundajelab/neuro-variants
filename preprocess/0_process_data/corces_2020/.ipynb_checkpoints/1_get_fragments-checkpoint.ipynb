{
 "cells": [
  {
   "cell_type": "code",
   "execution_count": 1,
   "id": "20e4be5f-6b59-4564-a6da-3588c8a89620",
   "metadata": {
    "tags": []
   },
   "outputs": [
    {
     "name": "stderr",
     "output_type": "stream",
     "text": [
      "Loading required package: stats4\n",
      "\n",
      "Loading required package: BiocGenerics\n",
      "\n",
      "Warning message:\n",
      "“package ‘BiocGenerics’ was built under R version 4.2.1”\n",
      "\n",
      "Attaching package: ‘BiocGenerics’\n",
      "\n",
      "\n",
      "The following objects are masked from ‘package:stats’:\n",
      "\n",
      "    IQR, mad, sd, var, xtabs\n",
      "\n",
      "\n",
      "The following objects are masked from ‘package:base’:\n",
      "\n",
      "    anyDuplicated, aperm, append, as.data.frame, basename, cbind,\n",
      "    colnames, dirname, do.call, duplicated, eval, evalq, Filter, Find,\n",
      "    get, grep, grepl, intersect, is.unsorted, lapply, Map, mapply,\n",
      "    match, mget, order, paste, pmax, pmax.int, pmin, pmin.int,\n",
      "    Position, rank, rbind, Reduce, rownames, sapply, setdiff, sort,\n",
      "    table, tapply, union, unique, unsplit, which.max, which.min\n",
      "\n",
      "\n",
      "Loading required package: S4Vectors\n",
      "\n",
      "Warning message:\n",
      "“package ‘S4Vectors’ was built under R version 4.2.3”\n",
      "\n",
      "Attaching package: ‘S4Vectors’\n",
      "\n",
      "\n",
      "The following objects are masked from ‘package:base’:\n",
      "\n",
      "    expand.grid, I, unname\n",
      "\n",
      "\n",
      "Loading required package: IRanges\n",
      "\n",
      "Warning message:\n",
      "“package ‘IRanges’ was built under R version 4.2.3”\n",
      "Loading required package: GenomeInfoDb\n",
      "\n"
     ]
    }
   ],
   "source": [
    "library(GenomicRanges)"
   ]
  },
  {
   "cell_type": "code",
   "execution_count": 2,
   "id": "089c04a9-a44a-4805-9ef6-a618fa564d88",
   "metadata": {
    "tags": []
   },
   "outputs": [
    {
     "data": {
      "text/html": [
       "<style>\n",
       ".list-inline {list-style: none; margin:0; padding: 0}\n",
       ".list-inline>li {display: inline-block}\n",
       ".list-inline>li:not(:last-child)::after {content: \"\\00b7\"; padding: 0 .5ex}\n",
       "</style>\n",
       "<ol class=list-inline><li>'/oak/stanford/groups/akundaje/projects/neuro-variants/data/raw/corces_2020/pseudobulk_rds/Cluster1-fragments.rds'</li><li>'/oak/stanford/groups/akundaje/projects/neuro-variants/data/raw/corces_2020/pseudobulk_rds/Cluster10-fragments.rds'</li><li>'/oak/stanford/groups/akundaje/projects/neuro-variants/data/raw/corces_2020/pseudobulk_rds/Cluster11-fragments.rds'</li><li>'/oak/stanford/groups/akundaje/projects/neuro-variants/data/raw/corces_2020/pseudobulk_rds/Cluster12-fragments.rds'</li><li>'/oak/stanford/groups/akundaje/projects/neuro-variants/data/raw/corces_2020/pseudobulk_rds/Cluster13-fragments.rds'</li><li>'/oak/stanford/groups/akundaje/projects/neuro-variants/data/raw/corces_2020/pseudobulk_rds/Cluster14-fragments.rds'</li><li>'/oak/stanford/groups/akundaje/projects/neuro-variants/data/raw/corces_2020/pseudobulk_rds/Cluster15-fragments.rds'</li><li>'/oak/stanford/groups/akundaje/projects/neuro-variants/data/raw/corces_2020/pseudobulk_rds/Cluster16-fragments.rds'</li><li>'/oak/stanford/groups/akundaje/projects/neuro-variants/data/raw/corces_2020/pseudobulk_rds/Cluster17-fragments.rds'</li><li>'/oak/stanford/groups/akundaje/projects/neuro-variants/data/raw/corces_2020/pseudobulk_rds/Cluster18-fragments.rds'</li><li>'/oak/stanford/groups/akundaje/projects/neuro-variants/data/raw/corces_2020/pseudobulk_rds/Cluster19-fragments.rds'</li><li>'/oak/stanford/groups/akundaje/projects/neuro-variants/data/raw/corces_2020/pseudobulk_rds/Cluster2-fragments.rds'</li><li>'/oak/stanford/groups/akundaje/projects/neuro-variants/data/raw/corces_2020/pseudobulk_rds/Cluster20-fragments.rds'</li><li>'/oak/stanford/groups/akundaje/projects/neuro-variants/data/raw/corces_2020/pseudobulk_rds/Cluster21-fragments.rds'</li><li>'/oak/stanford/groups/akundaje/projects/neuro-variants/data/raw/corces_2020/pseudobulk_rds/Cluster22-fragments.rds'</li><li>'/oak/stanford/groups/akundaje/projects/neuro-variants/data/raw/corces_2020/pseudobulk_rds/Cluster23-fragments.rds'</li><li>'/oak/stanford/groups/akundaje/projects/neuro-variants/data/raw/corces_2020/pseudobulk_rds/Cluster24-fragments.rds'</li><li>'/oak/stanford/groups/akundaje/projects/neuro-variants/data/raw/corces_2020/pseudobulk_rds/Cluster3-fragments.rds'</li><li>'/oak/stanford/groups/akundaje/projects/neuro-variants/data/raw/corces_2020/pseudobulk_rds/Cluster4-fragments.rds'</li><li>'/oak/stanford/groups/akundaje/projects/neuro-variants/data/raw/corces_2020/pseudobulk_rds/Cluster5-fragments.rds'</li><li>'/oak/stanford/groups/akundaje/projects/neuro-variants/data/raw/corces_2020/pseudobulk_rds/Cluster6-fragments.rds'</li><li>'/oak/stanford/groups/akundaje/projects/neuro-variants/data/raw/corces_2020/pseudobulk_rds/Cluster7-fragments.rds'</li><li>'/oak/stanford/groups/akundaje/projects/neuro-variants/data/raw/corces_2020/pseudobulk_rds/Cluster8-fragments.rds'</li><li>'/oak/stanford/groups/akundaje/projects/neuro-variants/data/raw/corces_2020/pseudobulk_rds/Cluster9-fragments.rds'</li></ol>\n"
      ],
      "text/latex": [
       "\\begin{enumerate*}\n",
       "\\item '/oak/stanford/groups/akundaje/projects/neuro-variants/data/raw/corces\\_2020/pseudobulk\\_rds/Cluster1-fragments.rds'\n",
       "\\item '/oak/stanford/groups/akundaje/projects/neuro-variants/data/raw/corces\\_2020/pseudobulk\\_rds/Cluster10-fragments.rds'\n",
       "\\item '/oak/stanford/groups/akundaje/projects/neuro-variants/data/raw/corces\\_2020/pseudobulk\\_rds/Cluster11-fragments.rds'\n",
       "\\item '/oak/stanford/groups/akundaje/projects/neuro-variants/data/raw/corces\\_2020/pseudobulk\\_rds/Cluster12-fragments.rds'\n",
       "\\item '/oak/stanford/groups/akundaje/projects/neuro-variants/data/raw/corces\\_2020/pseudobulk\\_rds/Cluster13-fragments.rds'\n",
       "\\item '/oak/stanford/groups/akundaje/projects/neuro-variants/data/raw/corces\\_2020/pseudobulk\\_rds/Cluster14-fragments.rds'\n",
       "\\item '/oak/stanford/groups/akundaje/projects/neuro-variants/data/raw/corces\\_2020/pseudobulk\\_rds/Cluster15-fragments.rds'\n",
       "\\item '/oak/stanford/groups/akundaje/projects/neuro-variants/data/raw/corces\\_2020/pseudobulk\\_rds/Cluster16-fragments.rds'\n",
       "\\item '/oak/stanford/groups/akundaje/projects/neuro-variants/data/raw/corces\\_2020/pseudobulk\\_rds/Cluster17-fragments.rds'\n",
       "\\item '/oak/stanford/groups/akundaje/projects/neuro-variants/data/raw/corces\\_2020/pseudobulk\\_rds/Cluster18-fragments.rds'\n",
       "\\item '/oak/stanford/groups/akundaje/projects/neuro-variants/data/raw/corces\\_2020/pseudobulk\\_rds/Cluster19-fragments.rds'\n",
       "\\item '/oak/stanford/groups/akundaje/projects/neuro-variants/data/raw/corces\\_2020/pseudobulk\\_rds/Cluster2-fragments.rds'\n",
       "\\item '/oak/stanford/groups/akundaje/projects/neuro-variants/data/raw/corces\\_2020/pseudobulk\\_rds/Cluster20-fragments.rds'\n",
       "\\item '/oak/stanford/groups/akundaje/projects/neuro-variants/data/raw/corces\\_2020/pseudobulk\\_rds/Cluster21-fragments.rds'\n",
       "\\item '/oak/stanford/groups/akundaje/projects/neuro-variants/data/raw/corces\\_2020/pseudobulk\\_rds/Cluster22-fragments.rds'\n",
       "\\item '/oak/stanford/groups/akundaje/projects/neuro-variants/data/raw/corces\\_2020/pseudobulk\\_rds/Cluster23-fragments.rds'\n",
       "\\item '/oak/stanford/groups/akundaje/projects/neuro-variants/data/raw/corces\\_2020/pseudobulk\\_rds/Cluster24-fragments.rds'\n",
       "\\item '/oak/stanford/groups/akundaje/projects/neuro-variants/data/raw/corces\\_2020/pseudobulk\\_rds/Cluster3-fragments.rds'\n",
       "\\item '/oak/stanford/groups/akundaje/projects/neuro-variants/data/raw/corces\\_2020/pseudobulk\\_rds/Cluster4-fragments.rds'\n",
       "\\item '/oak/stanford/groups/akundaje/projects/neuro-variants/data/raw/corces\\_2020/pseudobulk\\_rds/Cluster5-fragments.rds'\n",
       "\\item '/oak/stanford/groups/akundaje/projects/neuro-variants/data/raw/corces\\_2020/pseudobulk\\_rds/Cluster6-fragments.rds'\n",
       "\\item '/oak/stanford/groups/akundaje/projects/neuro-variants/data/raw/corces\\_2020/pseudobulk\\_rds/Cluster7-fragments.rds'\n",
       "\\item '/oak/stanford/groups/akundaje/projects/neuro-variants/data/raw/corces\\_2020/pseudobulk\\_rds/Cluster8-fragments.rds'\n",
       "\\item '/oak/stanford/groups/akundaje/projects/neuro-variants/data/raw/corces\\_2020/pseudobulk\\_rds/Cluster9-fragments.rds'\n",
       "\\end{enumerate*}\n"
      ],
      "text/markdown": [
       "1. '/oak/stanford/groups/akundaje/projects/neuro-variants/data/raw/corces_2020/pseudobulk_rds/Cluster1-fragments.rds'\n",
       "2. '/oak/stanford/groups/akundaje/projects/neuro-variants/data/raw/corces_2020/pseudobulk_rds/Cluster10-fragments.rds'\n",
       "3. '/oak/stanford/groups/akundaje/projects/neuro-variants/data/raw/corces_2020/pseudobulk_rds/Cluster11-fragments.rds'\n",
       "4. '/oak/stanford/groups/akundaje/projects/neuro-variants/data/raw/corces_2020/pseudobulk_rds/Cluster12-fragments.rds'\n",
       "5. '/oak/stanford/groups/akundaje/projects/neuro-variants/data/raw/corces_2020/pseudobulk_rds/Cluster13-fragments.rds'\n",
       "6. '/oak/stanford/groups/akundaje/projects/neuro-variants/data/raw/corces_2020/pseudobulk_rds/Cluster14-fragments.rds'\n",
       "7. '/oak/stanford/groups/akundaje/projects/neuro-variants/data/raw/corces_2020/pseudobulk_rds/Cluster15-fragments.rds'\n",
       "8. '/oak/stanford/groups/akundaje/projects/neuro-variants/data/raw/corces_2020/pseudobulk_rds/Cluster16-fragments.rds'\n",
       "9. '/oak/stanford/groups/akundaje/projects/neuro-variants/data/raw/corces_2020/pseudobulk_rds/Cluster17-fragments.rds'\n",
       "10. '/oak/stanford/groups/akundaje/projects/neuro-variants/data/raw/corces_2020/pseudobulk_rds/Cluster18-fragments.rds'\n",
       "11. '/oak/stanford/groups/akundaje/projects/neuro-variants/data/raw/corces_2020/pseudobulk_rds/Cluster19-fragments.rds'\n",
       "12. '/oak/stanford/groups/akundaje/projects/neuro-variants/data/raw/corces_2020/pseudobulk_rds/Cluster2-fragments.rds'\n",
       "13. '/oak/stanford/groups/akundaje/projects/neuro-variants/data/raw/corces_2020/pseudobulk_rds/Cluster20-fragments.rds'\n",
       "14. '/oak/stanford/groups/akundaje/projects/neuro-variants/data/raw/corces_2020/pseudobulk_rds/Cluster21-fragments.rds'\n",
       "15. '/oak/stanford/groups/akundaje/projects/neuro-variants/data/raw/corces_2020/pseudobulk_rds/Cluster22-fragments.rds'\n",
       "16. '/oak/stanford/groups/akundaje/projects/neuro-variants/data/raw/corces_2020/pseudobulk_rds/Cluster23-fragments.rds'\n",
       "17. '/oak/stanford/groups/akundaje/projects/neuro-variants/data/raw/corces_2020/pseudobulk_rds/Cluster24-fragments.rds'\n",
       "18. '/oak/stanford/groups/akundaje/projects/neuro-variants/data/raw/corces_2020/pseudobulk_rds/Cluster3-fragments.rds'\n",
       "19. '/oak/stanford/groups/akundaje/projects/neuro-variants/data/raw/corces_2020/pseudobulk_rds/Cluster4-fragments.rds'\n",
       "20. '/oak/stanford/groups/akundaje/projects/neuro-variants/data/raw/corces_2020/pseudobulk_rds/Cluster5-fragments.rds'\n",
       "21. '/oak/stanford/groups/akundaje/projects/neuro-variants/data/raw/corces_2020/pseudobulk_rds/Cluster6-fragments.rds'\n",
       "22. '/oak/stanford/groups/akundaje/projects/neuro-variants/data/raw/corces_2020/pseudobulk_rds/Cluster7-fragments.rds'\n",
       "23. '/oak/stanford/groups/akundaje/projects/neuro-variants/data/raw/corces_2020/pseudobulk_rds/Cluster8-fragments.rds'\n",
       "24. '/oak/stanford/groups/akundaje/projects/neuro-variants/data/raw/corces_2020/pseudobulk_rds/Cluster9-fragments.rds'\n",
       "\n",
       "\n"
      ],
      "text/plain": [
       " [1] \"/oak/stanford/groups/akundaje/projects/neuro-variants/data/raw/corces_2020/pseudobulk_rds/Cluster1-fragments.rds\" \n",
       " [2] \"/oak/stanford/groups/akundaje/projects/neuro-variants/data/raw/corces_2020/pseudobulk_rds/Cluster10-fragments.rds\"\n",
       " [3] \"/oak/stanford/groups/akundaje/projects/neuro-variants/data/raw/corces_2020/pseudobulk_rds/Cluster11-fragments.rds\"\n",
       " [4] \"/oak/stanford/groups/akundaje/projects/neuro-variants/data/raw/corces_2020/pseudobulk_rds/Cluster12-fragments.rds\"\n",
       " [5] \"/oak/stanford/groups/akundaje/projects/neuro-variants/data/raw/corces_2020/pseudobulk_rds/Cluster13-fragments.rds\"\n",
       " [6] \"/oak/stanford/groups/akundaje/projects/neuro-variants/data/raw/corces_2020/pseudobulk_rds/Cluster14-fragments.rds\"\n",
       " [7] \"/oak/stanford/groups/akundaje/projects/neuro-variants/data/raw/corces_2020/pseudobulk_rds/Cluster15-fragments.rds\"\n",
       " [8] \"/oak/stanford/groups/akundaje/projects/neuro-variants/data/raw/corces_2020/pseudobulk_rds/Cluster16-fragments.rds\"\n",
       " [9] \"/oak/stanford/groups/akundaje/projects/neuro-variants/data/raw/corces_2020/pseudobulk_rds/Cluster17-fragments.rds\"\n",
       "[10] \"/oak/stanford/groups/akundaje/projects/neuro-variants/data/raw/corces_2020/pseudobulk_rds/Cluster18-fragments.rds\"\n",
       "[11] \"/oak/stanford/groups/akundaje/projects/neuro-variants/data/raw/corces_2020/pseudobulk_rds/Cluster19-fragments.rds\"\n",
       "[12] \"/oak/stanford/groups/akundaje/projects/neuro-variants/data/raw/corces_2020/pseudobulk_rds/Cluster2-fragments.rds\" \n",
       "[13] \"/oak/stanford/groups/akundaje/projects/neuro-variants/data/raw/corces_2020/pseudobulk_rds/Cluster20-fragments.rds\"\n",
       "[14] \"/oak/stanford/groups/akundaje/projects/neuro-variants/data/raw/corces_2020/pseudobulk_rds/Cluster21-fragments.rds\"\n",
       "[15] \"/oak/stanford/groups/akundaje/projects/neuro-variants/data/raw/corces_2020/pseudobulk_rds/Cluster22-fragments.rds\"\n",
       "[16] \"/oak/stanford/groups/akundaje/projects/neuro-variants/data/raw/corces_2020/pseudobulk_rds/Cluster23-fragments.rds\"\n",
       "[17] \"/oak/stanford/groups/akundaje/projects/neuro-variants/data/raw/corces_2020/pseudobulk_rds/Cluster24-fragments.rds\"\n",
       "[18] \"/oak/stanford/groups/akundaje/projects/neuro-variants/data/raw/corces_2020/pseudobulk_rds/Cluster3-fragments.rds\" \n",
       "[19] \"/oak/stanford/groups/akundaje/projects/neuro-variants/data/raw/corces_2020/pseudobulk_rds/Cluster4-fragments.rds\" \n",
       "[20] \"/oak/stanford/groups/akundaje/projects/neuro-variants/data/raw/corces_2020/pseudobulk_rds/Cluster5-fragments.rds\" \n",
       "[21] \"/oak/stanford/groups/akundaje/projects/neuro-variants/data/raw/corces_2020/pseudobulk_rds/Cluster6-fragments.rds\" \n",
       "[22] \"/oak/stanford/groups/akundaje/projects/neuro-variants/data/raw/corces_2020/pseudobulk_rds/Cluster7-fragments.rds\" \n",
       "[23] \"/oak/stanford/groups/akundaje/projects/neuro-variants/data/raw/corces_2020/pseudobulk_rds/Cluster8-fragments.rds\" \n",
       "[24] \"/oak/stanford/groups/akundaje/projects/neuro-variants/data/raw/corces_2020/pseudobulk_rds/Cluster9-fragments.rds\" "
      ]
     },
     "metadata": {},
     "output_type": "display_data"
    }
   ],
   "source": [
    "rds_dir <- \"/oak/stanford/groups/akundaje/projects/neuro-variants/data/raw/corces_2020/pseudobulk_rds\"\n",
    "rds_files <- list.files(rds_dir, full.names=TRUE)\n",
    "\n",
    "rds_files"
   ]
  },
  {
   "cell_type": "code",
   "execution_count": 3,
   "id": "b980e24a-d0c9-4ef9-beca-af9ec8d85331",
   "metadata": {
    "tags": []
   },
   "outputs": [],
   "source": [
    "fragments_dir <- \"/oak/stanford/groups/akundaje/projects/neuro-variants/data/processed/corces_2020/fragments\"\n",
    "\n",
    "if (!dir.exists(fragments_dir)) {\n",
    "  dir.create(fragments_dir, recursive=TRUE)\n",
    "}"
   ]
  },
  {
   "cell_type": "code",
   "execution_count": 4,
   "id": "0a360f02-bbef-4059-aecd-3446a90d2464",
   "metadata": {
    "tags": []
   },
   "outputs": [
    {
     "name": "stdout",
     "output_type": "stream",
     "text": [
      "[1] \"/oak/stanford/groups/akundaje/projects/neuro-variants/data/processed/corces_2020/fragments/corces_2020.Cluster1.fragments.tsv\"\n",
      "[1] \"/oak/stanford/groups/akundaje/projects/neuro-variants/data/processed/corces_2020/fragments/corces_2020.Cluster10.fragments.tsv\"\n",
      "[1] \"/oak/stanford/groups/akundaje/projects/neuro-variants/data/processed/corces_2020/fragments/corces_2020.Cluster11.fragments.tsv\"\n",
      "[1] \"/oak/stanford/groups/akundaje/projects/neuro-variants/data/processed/corces_2020/fragments/corces_2020.Cluster12.fragments.tsv\"\n",
      "[1] \"/oak/stanford/groups/akundaje/projects/neuro-variants/data/processed/corces_2020/fragments/corces_2020.Cluster13.fragments.tsv\"\n",
      "[1] \"/oak/stanford/groups/akundaje/projects/neuro-variants/data/processed/corces_2020/fragments/corces_2020.Cluster14.fragments.tsv\"\n",
      "[1] \"/oak/stanford/groups/akundaje/projects/neuro-variants/data/processed/corces_2020/fragments/corces_2020.Cluster15.fragments.tsv\"\n",
      "[1] \"/oak/stanford/groups/akundaje/projects/neuro-variants/data/processed/corces_2020/fragments/corces_2020.Cluster16.fragments.tsv\"\n",
      "[1] \"/oak/stanford/groups/akundaje/projects/neuro-variants/data/processed/corces_2020/fragments/corces_2020.Cluster17.fragments.tsv\"\n",
      "[1] \"/oak/stanford/groups/akundaje/projects/neuro-variants/data/processed/corces_2020/fragments/corces_2020.Cluster18.fragments.tsv\"\n",
      "[1] \"/oak/stanford/groups/akundaje/projects/neuro-variants/data/processed/corces_2020/fragments/corces_2020.Cluster19.fragments.tsv\"\n",
      "[1] \"/oak/stanford/groups/akundaje/projects/neuro-variants/data/processed/corces_2020/fragments/corces_2020.Cluster2.fragments.tsv\"\n",
      "[1] \"/oak/stanford/groups/akundaje/projects/neuro-variants/data/processed/corces_2020/fragments/corces_2020.Cluster20.fragments.tsv\"\n",
      "[1] \"/oak/stanford/groups/akundaje/projects/neuro-variants/data/processed/corces_2020/fragments/corces_2020.Cluster21.fragments.tsv\"\n",
      "[1] \"/oak/stanford/groups/akundaje/projects/neuro-variants/data/processed/corces_2020/fragments/corces_2020.Cluster22.fragments.tsv\"\n",
      "[1] \"/oak/stanford/groups/akundaje/projects/neuro-variants/data/processed/corces_2020/fragments/corces_2020.Cluster23.fragments.tsv\"\n",
      "[1] \"/oak/stanford/groups/akundaje/projects/neuro-variants/data/processed/corces_2020/fragments/corces_2020.Cluster24.fragments.tsv\"\n",
      "[1] \"/oak/stanford/groups/akundaje/projects/neuro-variants/data/processed/corces_2020/fragments/corces_2020.Cluster3.fragments.tsv\"\n",
      "[1] \"/oak/stanford/groups/akundaje/projects/neuro-variants/data/processed/corces_2020/fragments/corces_2020.Cluster4.fragments.tsv\"\n",
      "[1] \"/oak/stanford/groups/akundaje/projects/neuro-variants/data/processed/corces_2020/fragments/corces_2020.Cluster5.fragments.tsv\"\n",
      "[1] \"/oak/stanford/groups/akundaje/projects/neuro-variants/data/processed/corces_2020/fragments/corces_2020.Cluster6.fragments.tsv\"\n",
      "[1] \"/oak/stanford/groups/akundaje/projects/neuro-variants/data/processed/corces_2020/fragments/corces_2020.Cluster7.fragments.tsv\"\n",
      "[1] \"/oak/stanford/groups/akundaje/projects/neuro-variants/data/processed/corces_2020/fragments/corces_2020.Cluster8.fragments.tsv\"\n",
      "[1] \"/oak/stanford/groups/akundaje/projects/neuro-variants/data/processed/corces_2020/fragments/corces_2020.Cluster9.fragments.tsv\"\n"
     ]
    }
   ],
   "source": [
    "for (rds_file in rds_files) {\n",
    "    fragments_rds <- readRDS(rds_file)\n",
    "    \n",
    "    chroms <- seqnames(fragments_rds)\n",
    "    starts <- start(fragments_rds) - 1\n",
    "    ends <- end(fragments_rds)\n",
    "    \n",
    "    fragments_df <- data.frame(chroms, starts, ends)\n",
    "    \n",
    "    fragments_file_name <- sub(\"-fragments\\\\.rds$\", \".fragments.tsv\", basename(rds_file))\n",
    "    fragments_file_name <- paste0(\"corces_2020.\", fragments_file_name)\n",
    "    fragments_file_path <- file.path(fragments_dir, fragments_file_name)\n",
    "    print(fragments_file_path)\n",
    "    flush.console()\n",
    "    \n",
    "    write.table(fragments_df, fragments_file_path, sep=\"\\t\",\n",
    "                row.names=FALSE, col.names=FALSE, quote=FALSE)\n",
    "}"
   ]
  },
  {
   "cell_type": "code",
   "execution_count": null,
   "id": "c12c8776-3fc1-4bc7-a7a6-89eec0d916b8",
   "metadata": {},
   "outputs": [],
   "source": []
  }
 ],
 "metadata": {
  "kernelspec": {
   "display_name": "R",
   "language": "R",
   "name": "ir"
  },
  "language_info": {
   "codemirror_mode": "r",
   "file_extension": ".r",
   "mimetype": "text/x-r-source",
   "name": "R",
   "pygments_lexer": "r",
   "version": "4.2.0"
  }
 },
 "nbformat": 4,
 "nbformat_minor": 5
}
